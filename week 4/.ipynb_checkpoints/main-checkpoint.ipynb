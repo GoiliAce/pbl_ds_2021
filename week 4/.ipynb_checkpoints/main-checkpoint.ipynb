{
 "cells": [
  {
   "cell_type": "code",
   "execution_count": 1,
   "id": "f86f7777",
   "metadata": {},
   "outputs": [],
   "source": [
    "import pandas as pd\n",
    "import numpy as np\n",
    "import seaborn as sns\n",
    "import matplotlib.pyplot as plt"
   ]
  },
  {
   "cell_type": "markdown",
   "id": "5c734922-8aa1-4dd1-a74a-43f9c790fbcc",
   "metadata": {},
   "source": [
    "# Hệ của Pokemon\n",
    "![Pokemon type](assets/pokemon_type.png)"
   ]
  },
  {
   "cell_type": "markdown",
   "id": "c9aa95dc-aaf1-4efd-9e37-8bb41a21f538",
   "metadata": {},
   "source": [
    "![type_attack](assets/typechart.png)"
   ]
  },
  {
   "cell_type": "markdown",
   "id": "a4d49fdb-4555-4184-aaf1-bbdfa4d899ce",
   "metadata": {},
   "source": [
    "Giả sử mình có 2 con pokemon. Pokemon 1 $(p_1)$ Pokemon 2 $(p_2)$, trọng số của 2 pokemon là $w_1$ và $w_2$.\n",
    "\n",
    "Giả sử hệ của $p_1$ là $t_1$, hệ của $p_2$ là $t_2$. Khi đó $w_1$ là tác động của $t_1$ $->$ $t_2$ và $w_2$ thì ngược lại.\n",
    "Hệ quả khi 2 pokemon đánh nhau:\n",
    "\n",
    "\n",
    "| Tham số | Công thức | Mô tả |\n",
    "| ------- | --------- | ----- |\n",
    "| final_atk_p1 | atk_p1 * (w1 * w2 (w2 này là hệ số của hệ thứ 2)) | Sức tấn công cơ bản cuối cùng |\n",
    "| final_sp_atk_p1 | sp_atk_p1 * w1 | Sức tấn công cơ bản cuối cùng |\n",
    "| final_def_p1 | def_p1 * w1 | Sức tấn công cơ bản cuối cùng |\n",
    "| final_sp_def_p1 | sp_def_p1 * w1 | Sức tấn công cơ bản cuối cùng |"
   ]
  },
  {
   "cell_type": "markdown",
   "id": "6ef0987a-7529-4f29-8904-01ebdb98bddb",
   "metadata": {},
   "source": [
    "Tuần xây dựng mô hình. Từ các tỉ lệ hệ ở trên, máu, tốc độ, tấn công, dự đoán thử xem nếu đưa hai pokemon mới vào và dự đoán xem pokemon nào thắng."
   ]
  }
 ],
 "metadata": {
  "kernelspec": {
   "display_name": "Python 3",
   "language": "python",
   "name": "python3"
  },
  "language_info": {
   "codemirror_mode": {
    "name": "ipython",
    "version": 3
   },
   "file_extension": ".py",
   "mimetype": "text/x-python",
   "name": "python",
   "nbconvert_exporter": "python",
   "pygments_lexer": "ipython3",
   "version": "3.8.8"
  }
 },
 "nbformat": 4,
 "nbformat_minor": 5
}
